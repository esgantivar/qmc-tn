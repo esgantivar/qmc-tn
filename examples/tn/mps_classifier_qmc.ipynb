{
  "nbformat": 4,
  "nbformat_minor": 0,
  "metadata": {
    "colab": {
      "name": "mps-classifier-qmc.ipynb",
      "provenance": [],
      "collapsed_sections": []
    },
    "kernelspec": {
      "name": "python3",
      "display_name": "Python 3"
    },
    "accelerator": "GPU"
  },
  "cells": [
    {
      "cell_type": "code",
      "metadata": {
        "colab": {
          "base_uri": "https://localhost:8080/"
        },
        "id": "our2SdJmHGXe",
        "outputId": "c48f6848-583d-4e0b-cb78-d73ed89dcb99"
      },
      "source": [
        "!pip install git+https://github.com/esgantivar/qmc.git -q"
      ],
      "execution_count": 1,
      "outputs": [
        {
          "output_type": "stream",
          "text": [
            "\u001b[?25l\r\u001b[K     |█                               | 10kB 24.7MB/s eta 0:00:01\r\u001b[K     |█▉                              | 20kB 30.7MB/s eta 0:00:01\r\u001b[K     |██▊                             | 30kB 24.4MB/s eta 0:00:01\r\u001b[K     |███▋                            | 40kB 27.4MB/s eta 0:00:01\r\u001b[K     |████▌                           | 51kB 26.8MB/s eta 0:00:01\r\u001b[K     |█████▌                          | 61kB 29.4MB/s eta 0:00:01\r\u001b[K     |██████▍                         | 71kB 19.1MB/s eta 0:00:01\r\u001b[K     |███████▎                        | 81kB 20.4MB/s eta 0:00:01\r\u001b[K     |████████▏                       | 92kB 18.0MB/s eta 0:00:01\r\u001b[K     |█████████                       | 102kB 18.7MB/s eta 0:00:01\r\u001b[K     |██████████                      | 112kB 18.7MB/s eta 0:00:01\r\u001b[K     |███████████                     | 122kB 18.7MB/s eta 0:00:01\r\u001b[K     |███████████▉                    | 133kB 18.7MB/s eta 0:00:01\r\u001b[K     |████████████▊                   | 143kB 18.7MB/s eta 0:00:01\r\u001b[K     |█████████████▋                  | 153kB 18.7MB/s eta 0:00:01\r\u001b[K     |██████████████▌                 | 163kB 18.7MB/s eta 0:00:01\r\u001b[K     |███████████████▌                | 174kB 18.7MB/s eta 0:00:01\r\u001b[K     |████████████████▍               | 184kB 18.7MB/s eta 0:00:01\r\u001b[K     |█████████████████▎              | 194kB 18.7MB/s eta 0:00:01\r\u001b[K     |██████████████████▏             | 204kB 18.7MB/s eta 0:00:01\r\u001b[K     |███████████████████             | 215kB 18.7MB/s eta 0:00:01\r\u001b[K     |████████████████████            | 225kB 18.7MB/s eta 0:00:01\r\u001b[K     |█████████████████████           | 235kB 18.7MB/s eta 0:00:01\r\u001b[K     |█████████████████████▉          | 245kB 18.7MB/s eta 0:00:01\r\u001b[K     |██████████████████████▊         | 256kB 18.7MB/s eta 0:00:01\r\u001b[K     |███████████████████████▋        | 266kB 18.7MB/s eta 0:00:01\r\u001b[K     |████████████████████████▌       | 276kB 18.7MB/s eta 0:00:01\r\u001b[K     |█████████████████████████▌      | 286kB 18.7MB/s eta 0:00:01\r\u001b[K     |██████████████████████████▍     | 296kB 18.7MB/s eta 0:00:01\r\u001b[K     |███████████████████████████▎    | 307kB 18.7MB/s eta 0:00:01\r\u001b[K     |████████████████████████████▏   | 317kB 18.7MB/s eta 0:00:01\r\u001b[K     |█████████████████████████████   | 327kB 18.7MB/s eta 0:00:01\r\u001b[K     |██████████████████████████████  | 337kB 18.7MB/s eta 0:00:01\r\u001b[K     |███████████████████████████████ | 348kB 18.7MB/s eta 0:00:01\r\u001b[K     |███████████████████████████████▉| 358kB 18.7MB/s eta 0:00:01\r\u001b[K     |████████████████████████████████| 368kB 18.7MB/s \n",
            "\u001b[?25h  Building wheel for qmc (setup.py) ... \u001b[?25l\u001b[?25hdone\n"
          ],
          "name": "stdout"
        }
      ]
    },
    {
      "cell_type": "code",
      "metadata": {
        "id": "9Jgt-3AmPFw2",
        "colab": {
          "base_uri": "https://localhost:8080/"
        },
        "outputId": "9b674e4f-4168-4005-e40b-73fb157ea1aa"
      },
      "source": [
        "import numpy as np\n",
        "import tensorflow as tf\n",
        "from qmc.tf.tt.models import MPSClassifierQMC\n",
        "from qmc.tf.tt.utils import ReturnBestEarlyStopping\n",
        "from qmc.tf.tt import features"
      ],
      "execution_count": 2,
      "outputs": [
        {
          "output_type": "stream",
          "text": [
            "/usr/local/lib/python3.7/dist-packages/typeguard/__init__.py:804: UserWarning: no type annotations present -- not typechecking qmc.tf.layers.CrossProduct.__init__\n",
            "  warn('no type annotations present -- not typechecking {}'.format(function_name(func)))\n",
            "/usr/local/lib/python3.7/dist-packages/typeguard/__init__.py:804: UserWarning: no type annotations present -- not typechecking qmc.tf.layers.DensityMatrix2Dist.__init__\n",
            "  warn('no type annotations present -- not typechecking {}'.format(function_name(func)))\n",
            "/usr/local/lib/python3.7/dist-packages/typeguard/__init__.py:804: UserWarning: no type annotations present -- not typechecking qmc.tf.layers.DensityMatrixRegression.__init__\n",
            "  warn('no type annotations present -- not typechecking {}'.format(function_name(func)))\n"
          ],
          "name": "stderr"
        }
      ]
    },
    {
      "cell_type": "code",
      "metadata": {
        "colab": {
          "base_uri": "https://localhost:8080/"
        },
        "id": "PvMUXYQ8WWqy",
        "outputId": "caf1cf1c-2350-45e5-b3c0-a1ae5f770edb"
      },
      "source": [
        "#Extract the MNIST Images and preprocess\n",
        "(x_train, y_train), (x_test, y_test) = tf.keras.datasets.mnist.load_data()\n",
        "\n",
        "# convert class vectors to binary class matrices\n",
        "y_train_categorical = tf.keras.utils.to_categorical(y_train, 10)\n",
        "y_test_categorical = tf.keras.utils.to_categorical(y_test, 10)\n",
        "# Y one hot\n",
        "Y_train = y_train[:, np.newaxis]\n",
        "Y_test = y_test[:, np.newaxis]\n",
        "\n",
        "# convert images to supported format\n",
        "x_train_feature = features.binary_map(x_train)\n",
        "x_test_feature = features.binary_map(x_test)\n",
        "x_train.shape, y_train.shape, x_test.shape, y_train.shape, y_train_categorical.shape, y_test_categorical.shape, Y_train.shape, Y_test.shape, x_train_feature.shape, x_test_feature.shape"
      ],
      "execution_count": 3,
      "outputs": [
        {
          "output_type": "stream",
          "text": [
            "Downloading data from https://storage.googleapis.com/tensorflow/tf-keras-datasets/mnist.npz\n",
            "11493376/11490434 [==============================] - 0s 0us/step\n"
          ],
          "name": "stdout"
        },
        {
          "output_type": "execute_result",
          "data": {
            "text/plain": [
              "((60000, 28, 28),\n",
              " (60000,),\n",
              " (10000, 28, 28),\n",
              " (60000,),\n",
              " (60000, 10),\n",
              " (10000, 10),\n",
              " (60000, 1),\n",
              " (10000, 1),\n",
              " (60000, 784, 2),\n",
              " (10000, 784, 2))"
            ]
          },
          "metadata": {
            "tags": []
          },
          "execution_count": 3
        }
      ]
    },
    {
      "cell_type": "code",
      "metadata": {
        "id": "SoO8T4tvWeZF"
      },
      "source": [
        "num_exps = 5\n",
        "lr = 0.0001\n",
        "batch_size = 256\n",
        "epochs = 50\n",
        "verbose = 0\n",
        "patience = 10\n",
        "bonds = [2, 4, 8, 16]\n",
        "results = np.zeros((len(bonds), num_exps))"
      ],
      "execution_count": 4,
      "outputs": []
    },
    {
      "cell_type": "code",
      "metadata": {
        "colab": {
          "base_uri": "https://localhost:8080/"
        },
        "id": "WBVkbPmaWqwL",
        "outputId": "da7d2f31-51c3-44ca-a75d-edcdb09ff0fd"
      },
      "source": [
        "for d_i in range(len(bonds)):\n",
        "  d_bond = bonds[d_i]\n",
        "  for i in range(num_exps):\n",
        "    model = MPSClassifierQMC(num_eig=10, d_bond=d_bond, n_output=10)\n",
        "    earlyStopping = ReturnBestEarlyStopping(monitor='val_accuracy', patience=patience, verbose=1, mode='max', restore_best_weights=True)\n",
        "    callback_list = [earlyStopping]\n",
        "    optimizer = tf.keras.optimizers.Adam(learning_rate=lr)\n",
        "    model.compile(loss=tf.keras.losses.CategoricalCrossentropy(),\n",
        "                  optimizer=optimizer,\n",
        "                  metrics=['accuracy'])\n",
        "    history = model.fit(x_train_feature, y_train_categorical,\n",
        "                        batch_size=batch_size,\n",
        "                        epochs=epochs,\n",
        "                        verbose=verbose,\n",
        "                        callbacks=callback_list,\n",
        "                        validation_data=(x_test_feature, y_test_categorical))\n",
        "    out = model.predict(x_test_feature, batch_size=batch_size)\n",
        "    out = np.argmax(out, axis=1)\n",
        "    nt = len(Y_test)\n",
        "    errors_mixed_qmkdc = np.sum(out != Y_test.reshape((nt)))\n",
        "    accuracy_mixed_qmkdc = 1 - errors_mixed_qmkdc/nt\n",
        "    print(f'd_bond: {d_bond}, i: {i}, accuracy: {round(accuracy_mixed_qmkdc, 4)}')\n",
        "    results[d_i][i] = accuracy_mixed_qmkdc\n",
        "  print(results[d_i])\n",
        "results"
      ],
      "execution_count": 5,
      "outputs": [
        {
          "output_type": "stream",
          "text": [
            "Restoring model weights from the end of the best epoch.\n",
            "\n",
            "Epoch 15: early stopping\n",
            "d_bond: 2, i: 0, accuracy: 0.6626\n",
            "Restoring model weights from the end of the best epoch.\n",
            "\n",
            "Epoch 11: early stopping\n",
            "d_bond: 2, i: 1, accuracy: 0.098\n",
            "Restoring model weights from the end of the best epoch.\n",
            "\n",
            "Epoch 13: early stopping\n",
            "d_bond: 2, i: 2, accuracy: 0.759\n",
            "Restoring model weights from the end of the best epoch.\n",
            "\n",
            "Epoch 11: early stopping\n",
            "d_bond: 2, i: 3, accuracy: 0.098\n",
            "Restoring model weights from the end of the best epoch.\n",
            "\n",
            "Epoch 11: early stopping\n",
            "d_bond: 2, i: 4, accuracy: 0.5612\n",
            "[0.6626 0.098  0.759  0.098  0.5612]\n",
            "Restoring model weights from the end of the best epoch.\n",
            "\n",
            "Epoch 12: early stopping\n",
            "d_bond: 4, i: 0, accuracy: 0.7956\n",
            "Restoring model weights from the end of the best epoch.\n",
            "\n",
            "Epoch 11: early stopping\n",
            "d_bond: 4, i: 1, accuracy: 0.098\n",
            "Restoring model weights from the end of the best epoch.\n",
            "\n",
            "Epoch 13: early stopping\n",
            "d_bond: 4, i: 2, accuracy: 0.8672\n",
            "Restoring model weights from the end of the best epoch.\n",
            "\n",
            "Epoch 11: early stopping\n",
            "d_bond: 4, i: 3, accuracy: 0.098\n",
            "Restoring model weights from the end of the best epoch.\n",
            "\n",
            "Epoch 16: early stopping\n",
            "d_bond: 4, i: 4, accuracy: 0.8918\n",
            "[0.7956 0.098  0.8672 0.098  0.8918]\n",
            "Restoring model weights from the end of the best epoch.\n",
            "\n",
            "Epoch 11: early stopping\n",
            "d_bond: 8, i: 0, accuracy: 0.8152\n",
            "Restoring model weights from the end of the best epoch.\n",
            "\n",
            "Epoch 21: early stopping\n",
            "d_bond: 8, i: 1, accuracy: 0.9444\n",
            "Restoring model weights from the end of the best epoch.\n",
            "\n",
            "Epoch 11: early stopping\n",
            "d_bond: 8, i: 2, accuracy: 0.098\n",
            "Restoring model weights from the end of the best epoch.\n",
            "\n",
            "Epoch 13: early stopping\n",
            "d_bond: 8, i: 3, accuracy: 0.931\n",
            "Restoring model weights from the end of the best epoch.\n",
            "\n",
            "Epoch 19: early stopping\n",
            "d_bond: 8, i: 4, accuracy: 0.9333\n",
            "[0.8152 0.9444 0.098  0.931  0.9333]\n",
            "Restoring model weights from the end of the best epoch.\n",
            "\n",
            "Epoch 18: early stopping\n",
            "d_bond: 16, i: 0, accuracy: 0.9732\n",
            "Restoring model weights from the end of the best epoch.\n",
            "\n",
            "Epoch 11: early stopping\n",
            "d_bond: 16, i: 1, accuracy: 0.911\n",
            "Restoring model weights from the end of the best epoch.\n",
            "\n",
            "Epoch 13: early stopping\n",
            "d_bond: 16, i: 2, accuracy: 0.9448\n",
            "Restoring model weights from the end of the best epoch.\n",
            "\n",
            "Epoch 17: early stopping\n",
            "d_bond: 16, i: 3, accuracy: 0.9739\n",
            "Restoring model weights from the end of the best epoch.\n",
            "\n",
            "Epoch 17: early stopping\n",
            "d_bond: 16, i: 4, accuracy: 0.9697\n",
            "[0.9732 0.911  0.9448 0.9739 0.9697]\n"
          ],
          "name": "stdout"
        },
        {
          "output_type": "execute_result",
          "data": {
            "text/plain": [
              "array([[0.6626, 0.098 , 0.759 , 0.098 , 0.5612],\n",
              "       [0.7956, 0.098 , 0.8672, 0.098 , 0.8918],\n",
              "       [0.8152, 0.9444, 0.098 , 0.931 , 0.9333],\n",
              "       [0.9732, 0.911 , 0.9448, 0.9739, 0.9697]])"
            ]
          },
          "metadata": {
            "tags": []
          },
          "execution_count": 5
        }
      ]
    }
  ]
}