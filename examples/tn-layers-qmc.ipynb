{
  "nbformat": 4,
  "nbformat_minor": 0,
  "metadata": {
    "colab": {
      "name": "TN - QMC.ipynb",
      "provenance": []
    },
    "kernelspec": {
      "name": "python3",
      "display_name": "Python 3"
    },
    "accelerator": "GPU"
  },
  "cells": [
    {
      "cell_type": "code",
      "metadata": {
        "colab": {
          "base_uri": "https://localhost:8080/"
        },
        "id": "S6P1CGhYMsq3",
        "outputId": "f4569cbb-d730-48c4-e26e-5d1c82b5482e"
      },
      "source": [
        "try:\n",
        "  import google.colab\n",
        "  IN_COLAB = True\n",
        "except:\n",
        "  IN_COLAB = False\n",
        "\n",
        "if IN_COLAB:\n",
        "    !rm -R qmc qmc1\n",
        "    !git clone https://github.com/esgantivar/qmc.git\n",
        "    !mv qmc qmc1\n",
        "    !mv qmc1/qmc .\n",
        "else:\n",
        "    import sys\n",
        "    sys.path.insert(0, \"../\")"
      ],
      "execution_count": 1,
      "outputs": [
        {
          "output_type": "stream",
          "text": [
            "rm: cannot remove 'qmc': No such file or directory\n",
            "rm: cannot remove 'qmc1': No such file or directory\n",
            "Cloning into 'qmc'...\n",
            "remote: Enumerating objects: 297, done.\u001b[K\n",
            "remote: Counting objects: 100% (297/297), done.\u001b[K\n",
            "remote: Compressing objects: 100% (201/201), done.\u001b[K\n",
            "remote: Total 297 (delta 128), reused 243 (delta 91), pack-reused 0\u001b[K\n",
            "Receiving objects: 100% (297/297), 16.96 MiB | 17.33 MiB/s, done.\n",
            "Resolving deltas: 100% (128/128), done.\n"
          ],
          "name": "stdout"
        }
      ]
    },
    {
      "cell_type": "code",
      "metadata": {
        "colab": {
          "base_uri": "https://localhost:8080/"
        },
        "id": "QD2smPk0NYeB",
        "outputId": "57dc39de-a74a-4d8d-b82c-48b9ab29998d"
      },
      "source": [
        "!pip install tensornetwork -q"
      ],
      "execution_count": 2,
      "outputs": [
        {
          "output_type": "stream",
          "text": [
            "\u001b[?25l\r\u001b[K     |▉                               | 10kB 32.8MB/s eta 0:00:01\r\u001b[K     |█▊                              | 20kB 34.4MB/s eta 0:00:01\r\u001b[K     |██▋                             | 30kB 18.3MB/s eta 0:00:01\r\u001b[K     |███▌                            | 40kB 12.1MB/s eta 0:00:01\r\u001b[K     |████▍                           | 51kB 7.8MB/s eta 0:00:01\r\u001b[K     |█████▎                          | 61kB 9.1MB/s eta 0:00:01\r\u001b[K     |██████▏                         | 71kB 9.0MB/s eta 0:00:01\r\u001b[K     |███████                         | 81kB 9.5MB/s eta 0:00:01\r\u001b[K     |████████                        | 92kB 9.6MB/s eta 0:00:01\r\u001b[K     |████████▉                       | 102kB 9.9MB/s eta 0:00:01\r\u001b[K     |█████████▊                      | 112kB 9.9MB/s eta 0:00:01\r\u001b[K     |██████████▋                     | 122kB 9.9MB/s eta 0:00:01\r\u001b[K     |███████████▍                    | 133kB 9.9MB/s eta 0:00:01\r\u001b[K     |████████████▎                   | 143kB 9.9MB/s eta 0:00:01\r\u001b[K     |█████████████▏                  | 153kB 9.9MB/s eta 0:00:01\r\u001b[K     |██████████████                  | 163kB 9.9MB/s eta 0:00:01\r\u001b[K     |███████████████                 | 174kB 9.9MB/s eta 0:00:01\r\u001b[K     |███████████████▉                | 184kB 9.9MB/s eta 0:00:01\r\u001b[K     |████████████████▊               | 194kB 9.9MB/s eta 0:00:01\r\u001b[K     |█████████████████▋              | 204kB 9.9MB/s eta 0:00:01\r\u001b[K     |██████████████████▌             | 215kB 9.9MB/s eta 0:00:01\r\u001b[K     |███████████████████▍            | 225kB 9.9MB/s eta 0:00:01\r\u001b[K     |████████████████████▎           | 235kB 9.9MB/s eta 0:00:01\r\u001b[K     |█████████████████████▏          | 245kB 9.9MB/s eta 0:00:01\r\u001b[K     |██████████████████████          | 256kB 9.9MB/s eta 0:00:01\r\u001b[K     |██████████████████████▉         | 266kB 9.9MB/s eta 0:00:01\r\u001b[K     |███████████████████████▊        | 276kB 9.9MB/s eta 0:00:01\r\u001b[K     |████████████████████████▋       | 286kB 9.9MB/s eta 0:00:01\r\u001b[K     |█████████████████████████▌      | 296kB 9.9MB/s eta 0:00:01\r\u001b[K     |██████████████████████████▍     | 307kB 9.9MB/s eta 0:00:01\r\u001b[K     |███████████████████████████▎    | 317kB 9.9MB/s eta 0:00:01\r\u001b[K     |████████████████████████████▏   | 327kB 9.9MB/s eta 0:00:01\r\u001b[K     |█████████████████████████████   | 337kB 9.9MB/s eta 0:00:01\r\u001b[K     |██████████████████████████████  | 348kB 9.9MB/s eta 0:00:01\r\u001b[K     |██████████████████████████████▉ | 358kB 9.9MB/s eta 0:00:01\r\u001b[K     |███████████████████████████████▊| 368kB 9.9MB/s eta 0:00:01\r\u001b[K     |████████████████████████████████| 378kB 9.9MB/s \n",
            "\u001b[?25h"
          ],
          "name": "stdout"
        }
      ]
    },
    {
      "cell_type": "code",
      "metadata": {
        "id": "mFSQg1C3Nx_t"
      },
      "source": [
        "import numpy as np\n",
        "import tensorflow as tf\n",
        "from qmc.tn.models import DenseCompClassifierQMC\n",
        "from tensorflow.keras.models import Sequential\n",
        "from tensornetwork.tn_keras.dense import DenseDecomp"
      ],
      "execution_count": 4,
      "outputs": []
    },
    {
      "cell_type": "markdown",
      "metadata": {
        "id": "TkFkT3c9Zj2J"
      },
      "source": [
        "## MNIST"
      ]
    },
    {
      "cell_type": "code",
      "metadata": {
        "colab": {
          "base_uri": "https://localhost:8080/"
        },
        "id": "1Rbn2lusNitO",
        "outputId": "fb7a01e6-828c-4471-ba19-2f1ec3e019d5"
      },
      "source": [
        "(x_train, y_train), (x_test, y_test) = tf.keras.datasets.mnist.load_data()\n",
        "(x_train.shape, y_train.shape), (x_test.shape, y_test.shape)"
      ],
      "execution_count": 5,
      "outputs": [
        {
          "output_type": "stream",
          "text": [
            "Downloading data from https://storage.googleapis.com/tensorflow/tf-keras-datasets/mnist.npz\n",
            "11493376/11490434 [==============================] - 0s 0us/step\n"
          ],
          "name": "stdout"
        },
        {
          "output_type": "execute_result",
          "data": {
            "text/plain": [
              "(((60000, 28, 28), (60000,)), ((10000, 28, 28), (10000,)))"
            ]
          },
          "metadata": {
            "tags": []
          },
          "execution_count": 5
        }
      ]
    },
    {
      "cell_type": "code",
      "metadata": {
        "colab": {
          "base_uri": "https://localhost:8080/"
        },
        "id": "Xlse_HUGQ0ud",
        "outputId": "bbbcfb3a-8fe1-491a-9767-f7e17756e889"
      },
      "source": [
        "(x_train.shape, y_train.shape), (x_test.shape, y_test.shape)"
      ],
      "execution_count": 6,
      "outputs": [
        {
          "output_type": "execute_result",
          "data": {
            "text/plain": [
              "(((60000, 28, 28), (60000,)), ((10000, 28, 28), (10000,)))"
            ]
          },
          "metadata": {
            "tags": []
          },
          "execution_count": 6
        }
      ]
    },
    {
      "cell_type": "code",
      "metadata": {
        "colab": {
          "base_uri": "https://localhost:8080/"
        },
        "id": "PFxUQTGkN9rI",
        "outputId": "19f07c56-cd06-48a3-919b-ad7211bd58c7"
      },
      "source": [
        "x_train = x_train.reshape(x_train.shape[0], x_train.shape[1] * x_train.shape[1]) / 255.0\n",
        "x_test = x_test.reshape(x_test.shape[0], x_test.shape[1] * x_test.shape[1]) / 255.0\n",
        "\n",
        "y_train = tf.keras.utils.to_categorical(y_train, 10)\n",
        "y_test = tf.keras.utils.to_categorical(y_test, 10)\n",
        "\n",
        "(x_train.shape, y_train.shape), (x_test.shape, y_test.shape)"
      ],
      "execution_count": 7,
      "outputs": [
        {
          "output_type": "execute_result",
          "data": {
            "text/plain": [
              "(((60000, 784), (60000, 10)), ((10000, 784), (10000, 10)))"
            ]
          },
          "metadata": {
            "tags": []
          },
          "execution_count": 7
        }
      ]
    },
    {
      "cell_type": "markdown",
      "metadata": {
        "id": "nM-_SPClRUeT"
      },
      "source": [
        "### DenseDecomp Single Layer"
      ]
    },
    {
      "cell_type": "code",
      "metadata": {
        "id": "ZDIPfrEsPiId"
      },
      "source": [
        "model = Sequential()\n",
        "model.add(DenseDecomp(10, decomp_size=128, activation='softmax', input_shape=(x_train.shape[1],)))"
      ],
      "execution_count": 8,
      "outputs": []
    },
    {
      "cell_type": "code",
      "metadata": {
        "id": "7NwFkQJrQe3I"
      },
      "source": [
        "model.compile(optimizer='adam',\n",
        "              loss=tf.keras.losses.categorical_crossentropy,\n",
        "              metrics=['accuracy'])"
      ],
      "execution_count": 9,
      "outputs": []
    },
    {
      "cell_type": "code",
      "metadata": {
        "colab": {
          "base_uri": "https://localhost:8080/"
        },
        "id": "sVruUpXpQgiA",
        "outputId": "c9fb1c8d-c4db-4e94-c1bf-f812659b344d"
      },
      "source": [
        "model.summary()"
      ],
      "execution_count": 10,
      "outputs": [
        {
          "output_type": "stream",
          "text": [
            "Model: \"sequential\"\n",
            "_________________________________________________________________\n",
            "Layer (type)                 Output Shape              Param #   \n",
            "=================================================================\n",
            "dense_decomp (DenseDecomp)   (None, 10)                101642    \n",
            "=================================================================\n",
            "Total params: 101,642\n",
            "Trainable params: 101,642\n",
            "Non-trainable params: 0\n",
            "_________________________________________________________________\n"
          ],
          "name": "stdout"
        }
      ]
    },
    {
      "cell_type": "code",
      "metadata": {
        "colab": {
          "base_uri": "https://localhost:8080/"
        },
        "id": "cScBk2BrQmOJ",
        "outputId": "923999d2-8adb-4399-c399-89d33ac42eb6"
      },
      "source": [
        "model.fit(x=x_train, y=y_train, epochs=10, batch_size=32, validation_data=(x_test, y_test))"
      ],
      "execution_count": 11,
      "outputs": [
        {
          "output_type": "stream",
          "text": [
            "Epoch 1/10\n",
            "1875/1875 [==============================] - 4s 2ms/step - loss: 0.3617 - accuracy: 0.8972 - val_loss: 0.2998 - val_accuracy: 0.9169\n",
            "Epoch 2/10\n",
            "1875/1875 [==============================] - 4s 2ms/step - loss: 0.3016 - accuracy: 0.9166 - val_loss: 0.2925 - val_accuracy: 0.9177\n",
            "Epoch 3/10\n",
            "1875/1875 [==============================] - 4s 2ms/step - loss: 0.2903 - accuracy: 0.9193 - val_loss: 0.2816 - val_accuracy: 0.9209\n",
            "Epoch 4/10\n",
            "1875/1875 [==============================] - 4s 2ms/step - loss: 0.2838 - accuracy: 0.9211 - val_loss: 0.2911 - val_accuracy: 0.9203\n",
            "Epoch 5/10\n",
            "1875/1875 [==============================] - 4s 2ms/step - loss: 0.2777 - accuracy: 0.9232 - val_loss: 0.3011 - val_accuracy: 0.9179\n",
            "Epoch 6/10\n",
            "1875/1875 [==============================] - 4s 2ms/step - loss: 0.2753 - accuracy: 0.9247 - val_loss: 0.2847 - val_accuracy: 0.9214\n",
            "Epoch 7/10\n",
            "1875/1875 [==============================] - 4s 2ms/step - loss: 0.2721 - accuracy: 0.9238 - val_loss: 0.2822 - val_accuracy: 0.9236\n",
            "Epoch 8/10\n",
            "1875/1875 [==============================] - 4s 2ms/step - loss: 0.2693 - accuracy: 0.9254 - val_loss: 0.2855 - val_accuracy: 0.9200\n",
            "Epoch 9/10\n",
            "1875/1875 [==============================] - 4s 2ms/step - loss: 0.2652 - accuracy: 0.9274 - val_loss: 0.2905 - val_accuracy: 0.9222\n",
            "Epoch 10/10\n",
            "1875/1875 [==============================] - 4s 2ms/step - loss: 0.2650 - accuracy: 0.9266 - val_loss: 0.2806 - val_accuracy: 0.9236\n"
          ],
          "name": "stdout"
        },
        {
          "output_type": "execute_result",
          "data": {
            "text/plain": [
              "<tensorflow.python.keras.callbacks.History at 0x7f87302137b8>"
            ]
          },
          "metadata": {
            "tags": []
          },
          "execution_count": 11
        }
      ]
    },
    {
      "cell_type": "markdown",
      "metadata": {
        "id": "J-RgPxJ3SmvT"
      },
      "source": [
        "### DenseCompClassifierQMC"
      ]
    },
    {
      "cell_type": "code",
      "metadata": {
        "id": "s6KbFzmLOmmU"
      },
      "source": [
        "model_qmc = DenseCompClassifierQMC()"
      ],
      "execution_count": 14,
      "outputs": []
    },
    {
      "cell_type": "code",
      "metadata": {
        "id": "9FESKu3SOvTR"
      },
      "source": [
        "optimizer = tf.keras.optimizers.Adam(learning_rate=0.001)\n",
        "model_qmc.compile(loss=tf.keras.losses.CategoricalCrossentropy(),\n",
        "              optimizer=optimizer,\n",
        "              metrics=['accuracy'])"
      ],
      "execution_count": 15,
      "outputs": []
    },
    {
      "cell_type": "code",
      "metadata": {
        "colab": {
          "base_uri": "https://localhost:8080/"
        },
        "id": "NRWuYu-PO-cS",
        "outputId": "a2933679-1c40-4cf7-e9be-2f6443e9c527"
      },
      "source": [
        "history = model_qmc.fit(x_train, \n",
        "                    y_train,\n",
        "                    batch_size=128,\n",
        "                    epochs=10,\n",
        "                    verbose=1,\n",
        "                    validation_data=(x_test, y_test))"
      ],
      "execution_count": 16,
      "outputs": [
        {
          "output_type": "stream",
          "text": [
            "Epoch 1/10\n",
            "469/469 [==============================] - 6s 13ms/step - loss: 0.4317 - accuracy: 0.8909 - val_loss: 0.2165 - val_accuracy: 0.9378\n",
            "Epoch 2/10\n",
            "469/469 [==============================] - 6s 12ms/step - loss: 0.1884 - accuracy: 0.9463 - val_loss: 0.1668 - val_accuracy: 0.9509\n",
            "Epoch 3/10\n",
            "469/469 [==============================] - 6s 12ms/step - loss: 0.1421 - accuracy: 0.9590 - val_loss: 0.1412 - val_accuracy: 0.9582\n",
            "Epoch 4/10\n",
            "469/469 [==============================] - 6s 12ms/step - loss: 0.1160 - accuracy: 0.9661 - val_loss: 0.1238 - val_accuracy: 0.9655\n",
            "Epoch 5/10\n",
            "469/469 [==============================] - 6s 12ms/step - loss: 0.0999 - accuracy: 0.9702 - val_loss: 0.1142 - val_accuracy: 0.9668\n",
            "Epoch 6/10\n",
            "469/469 [==============================] - 6s 12ms/step - loss: 0.0877 - accuracy: 0.9745 - val_loss: 0.1116 - val_accuracy: 0.9678\n",
            "Epoch 7/10\n",
            "469/469 [==============================] - 6s 12ms/step - loss: 0.0783 - accuracy: 0.9774 - val_loss: 0.1086 - val_accuracy: 0.9685\n",
            "Epoch 8/10\n",
            "469/469 [==============================] - 6s 12ms/step - loss: 0.0683 - accuracy: 0.9797 - val_loss: 0.1187 - val_accuracy: 0.9668\n",
            "Epoch 9/10\n",
            "469/469 [==============================] - 6s 12ms/step - loss: 0.0636 - accuracy: 0.9817 - val_loss: 0.1084 - val_accuracy: 0.9684\n",
            "Epoch 10/10\n",
            "469/469 [==============================] - 6s 12ms/step - loss: 0.0575 - accuracy: 0.9834 - val_loss: 0.1090 - val_accuracy: 0.9697\n"
          ],
          "name": "stdout"
        }
      ]
    },
    {
      "cell_type": "markdown",
      "metadata": {
        "id": "82V3xq65ZoZ1"
      },
      "source": [
        "## FASHION MNIST"
      ]
    },
    {
      "cell_type": "code",
      "metadata": {
        "colab": {
          "base_uri": "https://localhost:8080/"
        },
        "id": "oFhHTlAUZs2L",
        "outputId": "30115999-1761-4d52-831b-e6cc5b1f8a31"
      },
      "source": [
        "(x_train, y_train), (x_test, y_test) = tf.keras.datasets.fashion_mnist.load_data()\n",
        "(x_train.shape, y_train.shape), (x_test.shape, y_test.shape)"
      ],
      "execution_count": 17,
      "outputs": [
        {
          "output_type": "stream",
          "text": [
            "Downloading data from https://storage.googleapis.com/tensorflow/tf-keras-datasets/train-labels-idx1-ubyte.gz\n",
            "32768/29515 [=================================] - 0s 0us/step\n",
            "Downloading data from https://storage.googleapis.com/tensorflow/tf-keras-datasets/train-images-idx3-ubyte.gz\n",
            "26427392/26421880 [==============================] - 0s 0us/step\n",
            "Downloading data from https://storage.googleapis.com/tensorflow/tf-keras-datasets/t10k-labels-idx1-ubyte.gz\n",
            "8192/5148 [===============================================] - 0s 0us/step\n",
            "Downloading data from https://storage.googleapis.com/tensorflow/tf-keras-datasets/t10k-images-idx3-ubyte.gz\n",
            "4423680/4422102 [==============================] - 0s 0us/step\n"
          ],
          "name": "stdout"
        },
        {
          "output_type": "execute_result",
          "data": {
            "text/plain": [
              "(((60000, 28, 28), (60000,)), ((10000, 28, 28), (10000,)))"
            ]
          },
          "metadata": {
            "tags": []
          },
          "execution_count": 17
        }
      ]
    },
    {
      "cell_type": "code",
      "metadata": {
        "colab": {
          "base_uri": "https://localhost:8080/"
        },
        "id": "CUWEFUKbZ1L5",
        "outputId": "903f6227-1c63-4ee9-8981-d29eff31a30d"
      },
      "source": [
        "x_train = x_train.reshape(x_train.shape[0], x_train.shape[1] * x_train.shape[1]) / 255.0\n",
        "x_test = x_test.reshape(x_test.shape[0], x_test.shape[1] * x_test.shape[1]) / 255.0\n",
        "\n",
        "y_train = tf.keras.utils.to_categorical(y_train, 10)\n",
        "y_test = tf.keras.utils.to_categorical(y_test, 10)\n",
        "\n",
        "(x_train.shape, y_train.shape), (x_test.shape, y_test.shape)"
      ],
      "execution_count": 18,
      "outputs": [
        {
          "output_type": "execute_result",
          "data": {
            "text/plain": [
              "(((60000, 784), (60000, 10)), ((10000, 784), (10000, 10)))"
            ]
          },
          "metadata": {
            "tags": []
          },
          "execution_count": 18
        }
      ]
    },
    {
      "cell_type": "markdown",
      "metadata": {
        "id": "Mi4aLGBBZ9Yi"
      },
      "source": [
        "### DenseDecomp Single Layer"
      ]
    },
    {
      "cell_type": "code",
      "metadata": {
        "id": "1xBJPFw4Z5G-"
      },
      "source": [
        "model = Sequential()\n",
        "model.add(DenseDecomp(10, decomp_size=128, activation='softmax', input_shape=(x_train.shape[1],)))"
      ],
      "execution_count": 21,
      "outputs": []
    },
    {
      "cell_type": "code",
      "metadata": {
        "id": "mHIY4HeiaBlW"
      },
      "source": [
        "optimizer = tf.keras.optimizers.Adam(learning_rate=0.001)\n",
        "model.compile(loss=tf.keras.losses.CategoricalCrossentropy(),\n",
        "              optimizer=optimizer,\n",
        "              metrics=['accuracy'])"
      ],
      "execution_count": 22,
      "outputs": []
    },
    {
      "cell_type": "code",
      "metadata": {
        "colab": {
          "base_uri": "https://localhost:8080/"
        },
        "id": "k_rPKUccaFXu",
        "outputId": "35ad42f9-39a6-4dda-af4b-4fc84d8e57d8"
      },
      "source": [
        "history = model.fit(x_train, \n",
        "                    y_train,\n",
        "                    batch_size=128,\n",
        "                    epochs=10,\n",
        "                    verbose=1,\n",
        "                    validation_data=(x_test, y_test))"
      ],
      "execution_count": 23,
      "outputs": [
        {
          "output_type": "stream",
          "text": [
            "Epoch 1/10\n",
            "469/469 [==============================] - 2s 3ms/step - loss: 0.5700 - accuracy: 0.8029 - val_loss: 0.5025 - val_accuracy: 0.8250\n",
            "Epoch 2/10\n",
            "469/469 [==============================] - 1s 3ms/step - loss: 0.4637 - accuracy: 0.8393 - val_loss: 0.5118 - val_accuracy: 0.8191\n",
            "Epoch 3/10\n",
            "469/469 [==============================] - 2s 3ms/step - loss: 0.4435 - accuracy: 0.8468 - val_loss: 0.4921 - val_accuracy: 0.8227\n",
            "Epoch 4/10\n",
            "469/469 [==============================] - 1s 3ms/step - loss: 0.4297 - accuracy: 0.8511 - val_loss: 0.4690 - val_accuracy: 0.8375\n",
            "Epoch 5/10\n",
            "469/469 [==============================] - 1s 3ms/step - loss: 0.4254 - accuracy: 0.8522 - val_loss: 0.4937 - val_accuracy: 0.8305\n",
            "Epoch 6/10\n",
            "469/469 [==============================] - 1s 3ms/step - loss: 0.4169 - accuracy: 0.8549 - val_loss: 0.4700 - val_accuracy: 0.8361\n",
            "Epoch 7/10\n",
            "469/469 [==============================] - 1s 3ms/step - loss: 0.4149 - accuracy: 0.8557 - val_loss: 0.4709 - val_accuracy: 0.8371\n",
            "Epoch 8/10\n",
            "469/469 [==============================] - 1s 3ms/step - loss: 0.4090 - accuracy: 0.8579 - val_loss: 0.4592 - val_accuracy: 0.8410\n",
            "Epoch 9/10\n",
            "469/469 [==============================] - 1s 3ms/step - loss: 0.4047 - accuracy: 0.8601 - val_loss: 0.4514 - val_accuracy: 0.8433\n",
            "Epoch 10/10\n",
            "469/469 [==============================] - 2s 3ms/step - loss: 0.4036 - accuracy: 0.8592 - val_loss: 0.4509 - val_accuracy: 0.8460\n"
          ],
          "name": "stdout"
        }
      ]
    },
    {
      "cell_type": "markdown",
      "metadata": {
        "id": "iGE4gZ17aNtg"
      },
      "source": [
        "### DenseCompClassifierQMC"
      ]
    },
    {
      "cell_type": "code",
      "metadata": {
        "id": "ESP1zJhmaTyC"
      },
      "source": [
        "model_qmc = DenseCompClassifierQMC()"
      ],
      "execution_count": 24,
      "outputs": []
    },
    {
      "cell_type": "code",
      "metadata": {
        "id": "xYDaZ9UuaV88"
      },
      "source": [
        "optimizer = tf.keras.optimizers.Adam(learning_rate=0.001)\n",
        "model_qmc.compile(loss=tf.keras.losses.CategoricalCrossentropy(),\n",
        "              optimizer=optimizer,\n",
        "              metrics=['accuracy'])"
      ],
      "execution_count": 25,
      "outputs": []
    },
    {
      "cell_type": "code",
      "metadata": {
        "colab": {
          "base_uri": "https://localhost:8080/"
        },
        "id": "oxYi1hcaaYjs",
        "outputId": "c8ce045a-3d1c-48f3-f9cf-b42d417e186e"
      },
      "source": [
        "history = model_qmc.fit(x_train, \n",
        "                    y_train,\n",
        "                    batch_size=128,\n",
        "                    epochs=10,\n",
        "                    verbose=1,\n",
        "                    validation_data=(x_test, y_test))"
      ],
      "execution_count": 26,
      "outputs": [
        {
          "output_type": "stream",
          "text": [
            "Epoch 1/10\n",
            "469/469 [==============================] - 6s 13ms/step - loss: 0.5795 - accuracy: 0.8054 - val_loss: 0.4499 - val_accuracy: 0.8393\n",
            "Epoch 2/10\n",
            "469/469 [==============================] - 6s 12ms/step - loss: 0.3978 - accuracy: 0.8560 - val_loss: 0.4234 - val_accuracy: 0.8463\n",
            "Epoch 3/10\n",
            "469/469 [==============================] - 6s 12ms/step - loss: 0.3640 - accuracy: 0.8674 - val_loss: 0.3913 - val_accuracy: 0.8598\n",
            "Epoch 4/10\n",
            "469/469 [==============================] - 6s 13ms/step - loss: 0.3399 - accuracy: 0.8763 - val_loss: 0.3751 - val_accuracy: 0.8670\n",
            "Epoch 5/10\n",
            "469/469 [==============================] - 6s 13ms/step - loss: 0.3241 - accuracy: 0.8798 - val_loss: 0.3736 - val_accuracy: 0.8629\n",
            "Epoch 6/10\n",
            "469/469 [==============================] - 6s 13ms/step - loss: 0.3111 - accuracy: 0.8845 - val_loss: 0.3721 - val_accuracy: 0.8641\n",
            "Epoch 7/10\n",
            "469/469 [==============================] - 6s 13ms/step - loss: 0.3024 - accuracy: 0.8881 - val_loss: 0.3718 - val_accuracy: 0.8657\n",
            "Epoch 8/10\n",
            "469/469 [==============================] - 6s 12ms/step - loss: 0.2942 - accuracy: 0.8903 - val_loss: 0.3564 - val_accuracy: 0.8734\n",
            "Epoch 9/10\n",
            "469/469 [==============================] - 6s 12ms/step - loss: 0.2857 - accuracy: 0.8946 - val_loss: 0.3847 - val_accuracy: 0.8659\n",
            "Epoch 10/10\n",
            "469/469 [==============================] - 6s 12ms/step - loss: 0.2781 - accuracy: 0.8959 - val_loss: 0.3536 - val_accuracy: 0.8749\n"
          ],
          "name": "stdout"
        }
      ]
    }
  ]
}